{
 "cells": [
  {
   "cell_type": "markdown",
   "metadata": {},
   "source": [
    "## Reading and Plotting Stock Information"
   ]
  },
  {
   "cell_type": "code",
   "execution_count": 18,
   "metadata": {},
   "outputs": [],
   "source": [
    "# Import modules\n",
    "import pandas as pd\n",
    "import pandas_datareader.data as web\n",
    "import datetime as dt\n",
    "import matplotlib.pyplot as plt"
   ]
  },
  {
   "cell_type": "code",
   "execution_count": 15,
   "metadata": {},
   "outputs": [],
   "source": [
    "# Import APPL stock data\n",
    "start = dt.datetime(2010, 1, 1)\n",
    "end = dt.datetime(2017, 1, 1)\n",
    "dframe = web.DataReader('AAPL', 'google', start, end)\n",
    "dframe.to_csv(\"data/AAPL.csv\", index_label=\"Date\")"
   ]
  },
  {
   "cell_type": "code",
   "execution_count": 17,
   "metadata": {},
   "outputs": [
    {
     "name": "stdout",
     "output_type": "stream",
     "text": [
      "         Date   Open   High    Low  Close     Volume\n",
      "0  2010-01-04  30.49  30.64  30.34  30.57  123432050\n",
      "1  2010-01-05  30.66  30.80  30.46  30.63  150476004\n",
      "2  2010-01-06  30.63  30.75  30.11  30.14  138039594\n",
      "3  2010-01-07  30.25  30.29  29.86  30.08  119282324\n",
      "4  2010-01-08  30.04  30.29  29.87  30.28  111969081\n"
     ]
    }
   ],
   "source": [
    "# Read data from CSV and print first 5 rows\n",
    "df = pd.read_csv(\"data/AAPL.csv\")\n",
    "print(df.head())"
   ]
  },
  {
   "cell_type": "code",
   "execution_count": 19,
   "metadata": {},
   "outputs": [
    {
     "data": {
      "image/png": "[encoded data removed]",
      "text/plain": [
       "<matplotlib.figure.Figure at 0x7f359ce39668>"
      ]
     },
     "metadata": {},
     "output_type": "display_data"
    }
   ],
   "source": [
    "#Plot High price\n",
    "df['High'].plot()\n",
    "plt.show()"
   ]
  },
  {
   "cell_type": "markdown",
   "metadata": {},
   "source": [
    "## Joining two stock Information"
   ]
  },
  {
   "cell_type": "code",
   "execution_count": 20,
   "metadata": {
    "collapsed": true
   },
   "outputs": [],
   "source": [
    "# Specify date range using pandas range\n",
    "start_date = '2010-01-22'\n",
    "end_date = '2010-01-26'\n",
    "dates = pd.date_range(start_date, end_date)\n",
    "\n",
    "# Create empty dataFrame\n",
    "df1 = pd.DataFrame(index=dates)"
   ]
  },
  {
   "cell_type": "code",
   "execution_count": 21,
   "metadata": {},
   "outputs": [
    {
     "name": "stdout",
     "output_type": "stream",
     "text": [
      "                    Date  Open  High  Low  Close  Volume\n",
      "2010-01-22 00:00:00  NaN   NaN   NaN  NaN    NaN     NaN\n",
      "2010-01-23 00:00:00  NaN   NaN   NaN  NaN    NaN     NaN\n",
      "2010-01-24 00:00:00  NaN   NaN   NaN  NaN    NaN     NaN\n",
      "2010-01-25 00:00:00  NaN   NaN   NaN  NaN    NaN     NaN\n",
      "2010-01-26 00:00:00  NaN   NaN   NaN  NaN    NaN     NaN\n"
     ]
    }
   ],
   "source": [
    "# Join two dataframe\n",
    "df1 = df1.join(df)\n",
    "print(df1)"
   ]
  },
  {
   "cell_type": "code",
   "execution_count": 22,
   "metadata": {},
   "outputs": [
    {
     "name": "stdout",
     "output_type": "stream",
     "text": [
      "             Open   High    Low  Close     Volume\n",
      "Date                                             \n",
      "2010-01-04  30.49  30.64  30.34  30.57  123432050\n",
      "2010-01-05  30.66  30.80  30.46  30.63  150476004\n",
      "2010-01-06  30.63  30.75  30.11  30.14  138039594\n",
      "2010-01-07  30.25  30.29  29.86  30.08  119282324\n",
      "2010-01-08  30.04  30.29  29.87  30.28  111969081\n"
     ]
    }
   ],
   "source": [
    "# Above shows all NaN as AAPL stock data is read without date as index.\n",
    "# We can read again with correct format\n",
    "df = pd.read_csv(\"data/AAPL.csv\", index_col=\"Date\", parse_dates=True)\n",
    "print(df.head())"
   ]
  },
  {
   "cell_type": "code",
   "execution_count": 27,
   "metadata": {},
   "outputs": [
    {
     "name": "stdout",
     "output_type": "stream",
     "text": [
      "             Open   High    Low  Close       Volume\n",
      "2010-01-22  29.54  29.64  28.17  28.25  220441872.0\n",
      "2010-01-23    NaN    NaN    NaN    NaN          NaN\n",
      "2010-01-24    NaN    NaN    NaN    NaN          NaN\n",
      "2010-01-25  28.93  29.24  28.60  29.01  266424802.0\n",
      "2010-01-26  29.42  30.53  28.94  29.42  466777486.0\n"
     ]
    }
   ],
   "source": [
    "# Now join again and print out\n",
    "df1 = None\n",
    "df1 = pd.DataFrame(index=dates)\n",
    "df1 = df1.join(df)\n",
    "print(df1)"
   ]
  },
  {
   "cell_type": "code",
   "execution_count": 28,
   "metadata": {},
   "outputs": [
    {
     "name": "stdout",
     "output_type": "stream",
     "text": [
      "             Open   High    Low  Close       Volume\n",
      "2010-01-22  29.54  29.64  28.17  28.25  220441872.0\n",
      "2010-01-25  28.93  29.24  28.60  29.01  266424802.0\n",
      "2010-01-26  29.42  30.53  28.94  29.42  466777486.0\n"
     ]
    }
   ],
   "source": [
    "# Let's remove row with has NaN\n",
    "df1 = df1.dropna()\n",
    "print(df1)"
   ]
  },
  {
   "cell_type": "code",
   "execution_count": null,
   "metadata": {
    "collapsed": true
   },
   "outputs": [],
   "source": [
    "# Note that above two operation can be done by following command\n",
    "# df1 = df1.join(df, how='inner')"
   ]
  },
  {
   "cell_type": "markdown",
   "metadata": {},
   "source": [
    "### Example: Create Stock information using Close"
   ]
  },
  {
   "cell_type": "code",
   "execution_count": 29,
   "metadata": {
    "collapsed": true
   },
   "outputs": [],
   "source": [
    "# First, let's download stock information\n",
    "tickers = ['AAPL', 'SPY', 'IBM', 'GOOG', 'GLD']\n",
    "for ticker in tickers:\n",
    "    df = web.DataReader(ticker, 'google', start, end)\n",
    "    df.to_csv(\"data/{}.csv\".format(ticker), index_label=\"Date\")"
   ]
  },
  {
   "cell_type": "code",
   "execution_count": 30,
   "metadata": {
    "collapsed": true
   },
   "outputs": [],
   "source": [
    "# Create dataframe with wanted date range\n",
    "df1 = None\n",
    "df1 = pd.DataFrame(index=dates)"
   ]
  },
  {
   "cell_type": "code",
   "execution_count": 32,
   "metadata": {},
   "outputs": [
    {
     "name": "stdout",
     "output_type": "stream",
     "text": [
      "             AAPL     SPY     IBM    GOOG     GLD\n",
      "2010-01-22  28.25  109.21  125.50  274.73  107.17\n",
      "2010-01-23    NaN     NaN     NaN     NaN     NaN\n",
      "2010-01-24    NaN     NaN     NaN     NaN     NaN\n",
      "2010-01-25  29.01  109.77  126.12  269.73  107.48\n",
      "2010-01-26  29.42  109.31  125.75  270.94  107.56\n"
     ]
    }
   ],
   "source": [
    "# Join all stock information\n",
    "for ticker in tickers:\n",
    "    df_temp = pd.read_csv(\"data/{}.csv\".format(ticker), index_col='Date',\n",
    "                         parse_dates=True, usecols=['Date', 'Close'],\n",
    "                         na_values=['nan'])\n",
    "    # Rename\n",
    "    df_temp = df_temp.rename(columns={'Close': ticker})\n",
    "    df1 = df1.join(df_temp)\n",
    "print(df1)"
   ]
  },
  {
   "cell_type": "code",
   "execution_count": null,
   "metadata": {
    "collapsed": true
   },
   "outputs": [],
   "source": []
  }
 ],
 "metadata": {
  "kernelspec": {
   "display_name": "Python 3",
   "language": "python",
   "name": "python3"
  },
  "language_info": {
   "codemirror_mode": {
    "name": "ipython",
    "version": 3
   },
   "file_extension": ".py",
   "mimetype": "text/x-python",
   "name": "python",
   "nbconvert_exporter": "python",
   "pygments_lexer": "ipython3",
   "version": "3.6.1"
  }
 },
 "nbformat": 4,
 "nbformat_minor": 2
}
