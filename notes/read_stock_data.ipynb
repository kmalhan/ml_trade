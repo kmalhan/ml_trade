{
 "cells": [
  {
   "cell_type": "markdown",
   "metadata": {},
   "source": [
    "## Reading and Plotting Stock Information"
   ]
  },
  {
   "cell_type": "code",
   "execution_count": 6,
   "metadata": {
    "collapsed": true
   },
   "outputs": [],
   "source": [
    "# Import modules\n",
    "import pandas as pd\n",
    "import pandas_datareader.data as web\n",
    "import datetime as dt\n",
    "import matplotlib.pyplot as plt\n",
    "import os\n",
    "import numpy as np\n",
    "%matplotlib inline"
   ]
  },
  {
   "cell_type": "markdown",
   "metadata": {},
   "source": [
    "#### Lesson 01-01"
   ]
  },
  {
   "cell_type": "code",
   "execution_count": 7,
   "metadata": {},
   "outputs": [],
   "source": [
    "# Import AAPL stock data\n",
    "start = dt.datetime(2010, 1, 1)\n",
    "end = dt.datetime(2017, 1, 1)\n",
    "dframe = web.DataReader('AAPL', 'google', start, end)\n",
    "dframe.to_csv(\"../data/AAPL.csv\", index_label=\"Date\")"
   ]
  },
  {
   "cell_type": "code",
   "execution_count": 8,
   "metadata": {},
   "outputs": [
    {
     "name": "stdout",
     "output_type": "stream",
     "text": [
      "         Date   Open   High    Low  Close     Volume\n",
      "0  2010-01-04  30.49  30.64  30.34  30.57  123432050\n",
      "1  2010-01-05  30.66  30.80  30.46  30.63  150476004\n",
      "2  2010-01-06  30.63  30.75  30.11  30.14  138039594\n",
      "3  2010-01-07  30.25  30.29  29.86  30.08  119282324\n",
      "4  2010-01-08  30.04  30.29  29.87  30.28  111969081\n"
     ]
    }
   ],
   "source": [
    "# Read data from CSV and print first 5 rows\n",
    "df = pd.read_csv(\"../data/AAPL.csv\")\n",
    "print(df.head())"
   ]
  },
  {
   "cell_type": "code",
   "execution_count": 9,
   "metadata": {},
   "outputs": [
    {
     "data": {
      "image/png": "[encoded data removed]",
      "text/plain": [
       "<matplotlib.figure.Figure at 0x10252b588>"
      ]
     },
     "metadata": {},
     "output_type": "display_data"
    }
   ],
   "source": [
    "#Plot High price\n",
    "df['High'].plot()\n",
    "plt.show()"
   ]
  },
  {
   "cell_type": "markdown",
   "metadata": {},
   "source": [
    "## Joining two stock Information\n",
    "#### Lesson 01-02"
   ]
  },
  {
   "cell_type": "code",
   "execution_count": 10,
   "metadata": {
    "collapsed": true
   },
   "outputs": [],
   "source": [
    "# Specify date range using pandas range\n",
    "start_date = '2010-01-22'\n",
    "end_date = '2010-01-26'\n",
    "dates = pd.date_range(start_date, end_date)\n",
    "\n",
    "# Create empty dataFrame\n",
    "df1 = pd.DataFrame(index=dates)"
   ]
  },
  {
   "cell_type": "code",
   "execution_count": 11,
   "metadata": {},
   "outputs": [
    {
     "name": "stdout",
     "output_type": "stream",
     "text": [
      "                    Date  Open  High  Low  Close  Volume\n",
      "2010-01-22 00:00:00  NaN   NaN   NaN  NaN    NaN     NaN\n",
      "2010-01-23 00:00:00  NaN   NaN   NaN  NaN    NaN     NaN\n",
      "2010-01-24 00:00:00  NaN   NaN   NaN  NaN    NaN     NaN\n",
      "2010-01-25 00:00:00  NaN   NaN   NaN  NaN    NaN     NaN\n",
      "2010-01-26 00:00:00  NaN   NaN   NaN  NaN    NaN     NaN\n"
     ]
    }
   ],
   "source": [
    "# Join two dataframe\n",
    "df1 = df1.join(df)\n",
    "print(df1)"
   ]
  },
  {
   "cell_type": "code",
   "execution_count": 12,
   "metadata": {},
   "outputs": [
    {
     "name": "stdout",
     "output_type": "stream",
     "text": [
      "             Open   High    Low  Close     Volume\n",
      "Date                                             \n",
      "2010-01-04  30.49  30.64  30.34  30.57  123432050\n",
      "2010-01-05  30.66  30.80  30.46  30.63  150476004\n",
      "2010-01-06  30.63  30.75  30.11  30.14  138039594\n",
      "2010-01-07  30.25  30.29  29.86  30.08  119282324\n",
      "2010-01-08  30.04  30.29  29.87  30.28  111969081\n"
     ]
    }
   ],
   "source": [
    "# Above shows all NaN as AAPL stock data is read without date as index.\n",
    "# We can read again with correct format\n",
    "df = pd.read_csv(\"../data/AAPL.csv\", index_col=\"Date\", parse_dates=True)\n",
    "print(df.head())"
   ]
  },
  {
   "cell_type": "code",
   "execution_count": 13,
   "metadata": {},
   "outputs": [
    {
     "name": "stdout",
     "output_type": "stream",
     "text": [
      "             Open   High    Low  Close       Volume\n",
      "2010-01-22  29.54  29.64  28.17  28.25  220441872.0\n",
      "2010-01-23    NaN    NaN    NaN    NaN          NaN\n",
      "2010-01-24    NaN    NaN    NaN    NaN          NaN\n",
      "2010-01-25  28.93  29.24  28.60  29.01  266424802.0\n",
      "2010-01-26  29.42  30.53  28.94  29.42  466777486.0\n"
     ]
    }
   ],
   "source": [
    "# Now join again and print out\n",
    "df1 = None\n",
    "df1 = pd.DataFrame(index=dates)\n",
    "df1 = df1.join(df)\n",
    "print(df1)"
   ]
  },
  {
   "cell_type": "code",
   "execution_count": 14,
   "metadata": {},
   "outputs": [
    {
     "name": "stdout",
     "output_type": "stream",
     "text": [
      "             Open   High    Low  Close       Volume\n",
      "2010-01-22  29.54  29.64  28.17  28.25  220441872.0\n",
      "2010-01-25  28.93  29.24  28.60  29.01  266424802.0\n",
      "2010-01-26  29.42  30.53  28.94  29.42  466777486.0\n"
     ]
    }
   ],
   "source": [
    "# Let's remove row with has NaN\n",
    "df1 = df1.dropna()\n",
    "print(df1)"
   ]
  },
  {
   "cell_type": "code",
   "execution_count": 15,
   "metadata": {
    "collapsed": true
   },
   "outputs": [],
   "source": [
    "# Note that above two operation can be done by following command\n",
    "# df1 = df1.join(df, how='inner')"
   ]
  },
  {
   "cell_type": "markdown",
   "metadata": {},
   "source": [
    "### Example: Create Stock information using Close"
   ]
  },
  {
   "cell_type": "code",
   "execution_count": 16,
   "metadata": {
    "collapsed": true
   },
   "outputs": [],
   "source": [
    "# First, let's download stock information\n",
    "tickers = ['AAPL', 'SPY', 'IBM', 'GOOG', 'GLD']\n",
    "for ticker in tickers:\n",
    "    df = web.DataReader(ticker, 'google', start, end)\n",
    "    df.to_csv(\"../data/{}.csv\".format(ticker), index_label=\"Date\")"
   ]
  },
  {
   "cell_type": "code",
   "execution_count": 17,
   "metadata": {
    "collapsed": true
   },
   "outputs": [],
   "source": [
    "# Create dataframe with wanted date range\n",
    "df1 = None\n",
    "df1 = pd.DataFrame(index=dates)"
   ]
  },
  {
   "cell_type": "code",
   "execution_count": 18,
   "metadata": {},
   "outputs": [
    {
     "name": "stdout",
     "output_type": "stream",
     "text": [
      "             AAPL     SPY     IBM    GOOG     GLD\n",
      "2010-01-22  28.25  109.21  125.50  274.73  107.17\n",
      "2010-01-23    NaN     NaN     NaN     NaN     NaN\n",
      "2010-01-24    NaN     NaN     NaN     NaN     NaN\n",
      "2010-01-25  29.01  109.77  126.12  269.73  107.48\n",
      "2010-01-26  29.42  109.31  125.75  270.94  107.56\n"
     ]
    }
   ],
   "source": [
    "# Join all stock information\n",
    "for ticker in tickers:\n",
    "    df_temp = pd.read_csv(\"../data/{}.csv\".format(ticker), index_col='Date',\n",
    "                         parse_dates=True, usecols=['Date', 'Close'],\n",
    "                         na_values=['nan'])\n",
    "    # Rename\n",
    "    df_temp = df_temp.rename(columns={'Close': ticker})\n",
    "    df1 = df1.join(df_temp)\n",
    "print(df1)"
   ]
  },
  {
   "cell_type": "markdown",
   "metadata": {
    "collapsed": true
   },
   "source": [
    "### Utility Function to read data"
   ]
  },
  {
   "cell_type": "code",
   "execution_count": 19,
   "metadata": {
    "collapsed": true
   },
   "outputs": [],
   "source": [
    "# This function provides path to cvc for specified symbol\n",
    "# If symbol is not available, then read from internet, save, then provide\n",
    "# path\n",
    "def symbol_to_path(symbol, base_dir=\"../data\"):\n",
    "    \"\"\"Return CSV path to specified symbol\"\"\"\n",
    "    if not os.path.exists(os.path.join(base_dir, \"{}.csv\".format(str(symbol)))):\n",
    "        start = dt.datetime(2010, 1, 1)\n",
    "        end = dt.datetime(2017, 1, 1)\n",
    "        df = web.DataReader(symbol, 'google', start, end)\n",
    "        df.to_csv(os.path.join(base_dir,\"{}.csv\".format(str(symbol))))\n",
    "    return os.path.join(base_dir, \"{}.csv\".format(str(symbol)))"
   ]
  },
  {
   "cell_type": "code",
   "execution_count": 20,
   "metadata": {},
   "outputs": [
    {
     "name": "stdout",
     "output_type": "stream",
     "text": [
      "../data/AAPL.csv\n",
      "../data/HOLX.csv\n"
     ]
    }
   ],
   "source": [
    "# Test Function\n",
    "# Case 1: Existing one (AAPL)\n",
    "ex_path = symbol_to_path('AAPL')\n",
    "print(ex_path)\n",
    "# Case 2: Not existing one (HOLX)\n",
    "ex_path = symbol_to_path('HOLX')\n",
    "print(ex_path)\n",
    "os.remove(ex_path)"
   ]
  },
  {
   "cell_type": "code",
   "execution_count": 21,
   "metadata": {
    "collapsed": true
   },
   "outputs": [],
   "source": [
    "def get_data(symbols, dates):\n",
    "    \"\"\"Read stock data (close) for given symbols for given period of time\"\"\"\n",
    "    df = pd.DataFrame(index=dates)\n",
    "    if 'SPY' not in symbols:  # add SPY for reference, if absent\n",
    "        symbols.insert(0, 'SPY')\n",
    "\n",
    "    for symbol in symbols:\n",
    "        # TODO: Read and join data for each symbol\n",
    "        temp_df = pd.read_csv(symbol_to_path(symbol), index_col='Date',\n",
    "                         parse_dates=True, usecols=['Date', 'Close'],\n",
    "                         na_values=['nan'])\n",
    "        temp_df = temp_df.rename(columns={'Close': symbol})\n",
    "        df = df.join(temp_df, how='inner')\n",
    "    return df"
   ]
  },
  {
   "cell_type": "code",
   "execution_count": 22,
   "metadata": {},
   "outputs": [
    {
     "name": "stdout",
     "output_type": "stream",
     "text": [
      "               SPY    GOOG     IBM     GLD\n",
      "2010-01-04  113.33  313.06  132.45  109.80\n",
      "2010-01-05  113.63  311.68  130.85  109.70\n",
      "2010-01-06  113.71  303.83  130.00  111.51\n",
      "2010-01-07  114.19  296.75  129.55  110.82\n",
      "2010-01-08  114.57  300.71  130.85  111.37\n",
      "2010-01-11  114.73  300.25  129.48  112.85\n",
      "2010-01-12  113.66  294.94  130.51  110.49\n",
      "2010-01-13  114.62  293.25  130.23  111.54\n",
      "2010-01-14  114.93  294.63  132.31  112.03\n",
      "2010-01-15  113.64  289.71  131.78  110.86\n",
      "2010-01-19  115.06  293.52  134.14  111.52\n",
      "2010-01-20  113.89  289.91  130.25  108.94\n",
      "2010-01-21  111.70  291.20  129.00  107.37\n",
      "2010-01-22  109.21  274.73  125.50  107.17\n",
      "2010-01-25  109.77  269.73  126.12  107.48\n",
      "2010-01-26  109.31  270.94  125.75  107.56\n",
      "2010-01-27  109.83  270.78  126.33  106.53\n",
      "2010-01-28  108.57  266.88  123.75  106.48\n",
      "2010-01-29  107.39  264.71  122.39  105.96\n",
      "2010-02-01  109.06  266.24  124.67  108.35\n",
      "2010-02-02  110.38  265.29  125.53  109.13\n",
      "2010-02-03  109.83  270.14  125.66  108.70\n",
      "2010-02-04  106.44  263.13  123.00  104.37\n",
      "2010-02-05  106.66  265.38  123.52  104.68\n",
      "2010-02-08  105.89  266.47  121.88  104.04\n",
      "2010-02-09  107.22  267.95  123.21  105.41\n",
      "2010-02-10  107.01  266.96  122.81  105.12\n",
      "2010-02-11  108.13  267.93  123.73  107.13\n",
      "2010-02-12  108.04  266.29  124.00  107.04\n",
      "2010-02-16  109.74  270.38  125.23  109.62\n",
      "...            ...     ...     ...     ...\n",
      "2010-11-18  119.96  297.98  144.36  132.09\n",
      "2010-11-19  120.29  295.12  145.05  132.20\n",
      "2010-11-22  120.19  295.31  145.39  133.48\n",
      "2010-11-23  118.45  291.21  143.18  134.41\n",
      "2010-11-24  120.20  297.19  145.81  134.18\n",
      "2010-11-26  118.80  294.70  143.90  133.11\n",
      "2010-11-29  119.16  290.76  142.89  133.51\n",
      "2010-11-30  118.49  277.58  141.46  135.42\n",
      "2010-12-01  121.01  281.89  144.41  135.38\n",
      "2010-12-02  122.56  285.62  145.18  135.20\n",
      "2010-12-03  122.89  286.21  145.38  138.07\n",
      "2010-12-06  122.76  288.89  144.99  139.11\n",
      "2010-12-07  122.83  293.28  144.02  136.50\n",
      "2010-12-08  123.28  294.97  144.98  134.79\n",
      "2010-12-09  123.76  295.45  144.30  135.37\n",
      "2010-12-10  124.48  295.81  144.82  135.41\n",
      "2010-12-13  124.56  297.01  144.28  136.05\n",
      "2010-12-14  124.67  297.16  145.82  136.18\n",
      "2010-12-15  124.10  294.85  144.72  134.70\n",
      "2010-12-16  124.82  295.56  144.55  133.81\n",
      "2010-12-17  124.30  295.10  145.00  134.20\n",
      "2010-12-20  124.60  297.23  144.51  135.11\n",
      "2010-12-21  125.39  301.23  145.74  135.32\n",
      "2010-12-22  125.78  302.44  145.95  135.05\n",
      "2010-12-23  125.60  301.81  145.89  134.66\n",
      "2010-12-27  125.65  300.89  145.34  135.02\n",
      "2010-12-28  125.83  299.16  145.71  137.22\n",
      "2010-12-29  125.92  300.20  146.52  137.71\n",
      "2010-12-30  125.72  299.13  146.67  137.03\n",
      "2010-12-31  125.75  296.69  146.76  138.72\n",
      "\n",
      "[251 rows x 4 columns]\n"
     ]
    }
   ],
   "source": [
    "# Test function\n",
    "# Define a date range\n",
    "dates = pd.date_range('2010-01-1', '2010-12-31')\n",
    "# Choose stock symbols to read\n",
    "symbols = ['GOOG', 'IBM', 'GLD']\n",
    "# Get stock data\n",
    "df = get_data(symbols, dates)\n",
    "print(df)"
   ]
  },
  {
   "cell_type": "code",
   "execution_count": 23,
   "metadata": {
    "collapsed": true
   },
   "outputs": [],
   "source": [
    "# Plot data\n",
    "def plot_data(df, title=\"Stock prices\"):\n",
    "    \"\"\"Plot stock prices\"\"\"\n",
    "    ax = df.plot(title=title, fontsize=10)\n",
    "    ax.set_xlabel(\"Date\")\n",
    "    ax.set_ylabel(\"Price\")\n",
    "    plt.show()"
   ]
  },
  {
   "cell_type": "code",
   "execution_count": 24,
   "metadata": {},
   "outputs": [
    {
     "data": {
      "image/png": "[encoded data removed]",
      "text/plain": [
       "<matplotlib.figure.Figure at 0x1028fa358>"
      ]
     },
     "metadata": {},
     "output_type": "display_data"
    }
   ],
   "source": [
    "plot_data(df)"
   ]
  },
  {
   "cell_type": "code",
   "execution_count": 25,
   "metadata": {
    "collapsed": true
   },
   "outputs": [],
   "source": [
    "def plot_selected(df, columns, start_index, end_index):\n",
    "    \"\"\"Plot selected symbols over selected time\"\"\"\n",
    "    plot_data(df.ix[start_index:endIindex, columns], title=\"Selected Data\")"
   ]
  },
  {
   "cell_type": "code",
   "execution_count": 26,
   "metadata": {
    "collapsed": true
   },
   "outputs": [],
   "source": [
    "def normalize_data(df):\n",
    "    \"\"\"Normalize stock price using first row\"\"\"\n",
    "    return df / df.iloc[0,:]"
   ]
  },
  {
   "cell_type": "markdown",
   "metadata": {},
   "source": [
    "### Power of NumPy\n",
    "#### Lesson 01-03"
   ]
  },
  {
   "cell_type": "code",
   "execution_count": 27,
   "metadata": {},
   "outputs": [
    {
     "name": "stdout",
     "output_type": "stream",
     "text": [
      "[[2 3 4]\n",
      " [5 6 7]]\n"
     ]
    }
   ],
   "source": [
    "# Basic notation\n",
    "#nd1[row, col]\n",
    "#nd1[row_start:row_end,col_start:col_end]\n",
    "# By using just \":\", it means all row or col\n",
    "# Last row can be expressed with \"-1\" (Cound back from END)\n",
    "\n",
    "# Create array\n",
    "print(np.array([(2, 3, 4),(5, 6, 7)]))"
   ]
  },
  {
   "cell_type": "code",
   "execution_count": 28,
   "metadata": {},
   "outputs": [
    {
     "name": "stdout",
     "output_type": "stream",
     "text": [
      "[[  0.1    0.15   0.2    0.25]\n",
      " [  0.3    0.4    0.5    0.6 ]\n",
      " [  0.8    1.     1.5    2.  ]\n",
      " [  2.5    3.     4.     5.  ]\n",
      " [  6.     8.    10.    15.  ]]\n"
     ]
    }
   ],
   "source": [
    "# Create empty array\n",
    "print(np.empty((5, 4)))"
   ]
  },
  {
   "cell_type": "code",
   "execution_count": 29,
   "metadata": {},
   "outputs": [
    {
     "name": "stdout",
     "output_type": "stream",
     "text": [
      "[[ 1.  1.  1.  1.]\n",
      " [ 1.  1.  1.  1.]\n",
      " [ 1.  1.  1.  1.]\n",
      " [ 1.  1.  1.  1.]\n",
      " [ 1.  1.  1.  1.]]\n"
     ]
    }
   ],
   "source": [
    "# Create array with ones\n",
    "print(np.ones((5, 4)))"
   ]
  },
  {
   "cell_type": "code",
   "execution_count": 30,
   "metadata": {},
   "outputs": [
    {
     "name": "stdout",
     "output_type": "stream",
     "text": [
      "[[1 1 1 1]\n",
      " [1 1 1 1]\n",
      " [1 1 1 1]\n",
      " [1 1 1 1]\n",
      " [1 1 1 1]]\n"
     ]
    }
   ],
   "source": [
    "# Note that default np array is float\n",
    "# To make it int\n",
    "print(np.ones((5, 4), dtype=np.int_))"
   ]
  },
  {
   "cell_type": "code",
   "execution_count": 31,
   "metadata": {},
   "outputs": [
    {
     "name": "stdout",
     "output_type": "stream",
     "text": [
      "[[ 0.64844051  0.32914323  0.21612129  0.07502843]\n",
      " [ 0.55255307  0.39136977  0.89880417  0.23269751]\n",
      " [ 0.80907612  0.75690923  0.92205924  0.44301284]\n",
      " [ 0.65137787  0.60270333  0.51494326  0.55435674]\n",
      " [ 0.02235808  0.16681464  0.63800818  0.1264242 ]]\n"
     ]
    }
   ],
   "source": [
    "# Generate random value\n",
    "print( np.random.random((5, 4)) )"
   ]
  },
  {
   "cell_type": "code",
   "execution_count": 32,
   "metadata": {},
   "outputs": [
    {
     "name": "stdout",
     "output_type": "stream",
     "text": [
      "[[ 0.17181084  0.75632324  0.46740555  0.9888577 ]\n",
      " [ 0.68663858  0.98860205  0.16793841  0.32285166]\n",
      " [ 0.81512306  0.9423592   0.66667053  0.78095287]\n",
      " [ 0.98536371  0.11735136  0.73054243  0.21015268]\n",
      " [ 0.93039176  0.95237867  0.15542317  0.71463687]]\n"
     ]
    }
   ],
   "source": [
    "# You can also generate using following syntax\n",
    "a = np.random.rand(5, 4)\n",
    "print( a )"
   ]
  },
  {
   "cell_type": "code",
   "execution_count": 33,
   "metadata": {},
   "outputs": [
    {
     "name": "stdout",
     "output_type": "stream",
     "text": [
      "(5, 4)\n",
      "5\n",
      "4\n"
     ]
    }
   ],
   "source": [
    "# Show the shape of array\n",
    "print(a.shape)\n",
    "# Number of row\n",
    "print(a.shape[0])\n",
    "# Number of col\n",
    "print(a.shape[1])"
   ]
  },
  {
   "cell_type": "code",
   "execution_count": null,
   "metadata": {},
   "outputs": [
    {
     "name": "stdout",
     "output_type": "stream",
     "text": [
      "20\n"
     ]
    }
   ],
   "source": [
    "# Get number of elements\n",
    "print(a.size)"
   ]
  },
  {
   "cell_type": "markdown",
   "metadata": {},
   "source": [
    "Array Operations"
   ]
  },
  {
   "cell_type": "code",
   "execution_count": null,
   "metadata": {},
   "outputs": [],
   "source": [
    "print( \"Sum of array elements: \", a.sum())\n",
    "print( \"Sum of each col: \", a.sum(axis=0))\n",
    "print( \"Sum of each row: \", a.sum(axis=1))"
   ]
  },
  {
   "cell_type": "markdown",
   "metadata": {},
   "source": [
    "### Statistical Analysis\n",
    "#### Lesson 1-4"
   ]
  },
  {
   "cell_type": "code",
   "execution_count": null,
   "metadata": {},
   "outputs": [],
   "source": [
    "# Print first 5 row to remember data then plot\n",
    "print(df.head())\n",
    "plot_data(df)"
   ]
  },
  {
   "cell_type": "markdown",
   "metadata": {},
   "source": [
    "**Global Statistics**"
   ]
  },
  {
   "cell_type": "code",
   "execution_count": null,
   "metadata": {},
   "outputs": [],
   "source": [
    "# Calculate mean\n",
    "print( df.mean() )"
   ]
  },
  {
   "cell_type": "code",
   "execution_count": null,
   "metadata": {},
   "outputs": [],
   "source": [
    "# Calculate median\n",
    "print( df.median() )"
   ]
  },
  {
   "cell_type": "code",
   "execution_count": null,
   "metadata": {},
   "outputs": [],
   "source": [
    "# Calculate std\n",
    "print( df.std() )"
   ]
  },
  {
   "cell_type": "markdown",
   "metadata": {},
   "source": [
    "**Rolling Statistics**"
   ]
  },
  {
   "cell_type": "code",
   "execution_count": null,
   "metadata": {},
   "outputs": [],
   "source": [
    "# Bollinger Bands\n",
    "# If stock price is go away more than 2 std from rolling mean, then \n",
    "# attention should be paid\n",
    "\n",
    "# Calculate rolling mean\n",
    "ax = df['SPY'].plot(title=\"SPY rolling mean\", label='SPY')\n",
    "rm_SPY = df['SPY'].rolling(window=20).mean() #calculating\n",
    "rm_SPY.plot(label='Rolling mean', ax=ax)\n",
    "ax.set_xlabel(\"Date\")\n",
    "ax.set_ylabel(\"Price\")\n",
    "ax.legend(loc='upper left')\n",
    "plt.show()"
   ]
  },
  {
   "cell_type": "code",
   "execution_count": null,
   "metadata": {
    "collapsed": true
   },
   "outputs": [],
   "source": [
    "def get_rolling_mean(values, window):\n",
    "    \"\"\"Return rolling mean of given values, using specific window size\"\"\"\n",
    "    return values.rolling(window=window).mean()\n",
    "\n",
    "def get_rolling_std(values, window):\n",
    "    \"\"\"Return rolling std of given values, using specific window size\"\"\"\n",
    "    return values.rolling(window=window).std()\n",
    "\n",
    "def get_bollinger_bands(rm, rstd):\n",
    "    \"\"\"Return upper and lower band of Billinger Bands\"\"\"\n",
    "    upper_band = rm + 2 * rstd\n",
    "    lower_band = rm - 2 * rstd\n",
    "    return upper_band, lower_band"
   ]
  },
  {
   "cell_type": "code",
   "execution_count": null,
   "metadata": {},
   "outputs": [],
   "source": [
    "# Test function\n",
    "rm_SPY = get_rolling_mean(df['SPY'], window=20)\n",
    "rstd_SPY = get_rolling_std(df['SPY'], window=20)\n",
    "upper_band, lower_band = get_bollinger_bands(rm_SPY, rstd_SPY)\n",
    "\n",
    "ax = df['SPY'].plot(title=\"SPY rolling mean\", label='SPY')\n",
    "rm_SPY.plot(label='Rolling mean', ax=ax)\n",
    "upper_band.plot(label='upper band', ax=ax)\n",
    "lower_band.plot(label='lower band', ax=ax)\n",
    "ax.set_xlabel(\"Date\")\n",
    "ax.set_ylabel(\"Price\")\n",
    "ax.legend(loc='upper left')\n",
    "plt.show()"
   ]
  },
  {
   "cell_type": "markdown",
   "metadata": {},
   "source": [
    "**Daily Returns**"
   ]
  },
  {
   "cell_type": "code",
   "execution_count": null,
   "metadata": {
    "collapsed": true
   },
   "outputs": [],
   "source": [
    "\n",
    "def compute_daily_returns(df):\n",
    "    daily_returns = df.copy()\n",
    "    daily_returns[1:] = (df[1:] / df[:-1].values) - 1\n",
    "    daily_returns.iloc[0, :] = 0\n",
    "    return daily_returns\n",
    "\n",
    "# Below is much easier implementation\n",
    "def compute_daily_returns_2(df):\n",
    "    daily_returns = (df / df.shift(1)) - 1\n",
    "    daily_returns.iloc[0] = 0\n",
    "    return daily_returns"
   ]
  },
  {
   "cell_type": "code",
   "execution_count": null,
   "metadata": {},
   "outputs": [],
   "source": [
    "# Test function\n",
    "df1 = df['SPY']\n",
    "plot_data(compute_daily_returns_2(df1))"
   ]
  },
  {
   "cell_type": "markdown",
   "metadata": {},
   "source": [
    "**Cumulative Returns**"
   ]
  },
  {
   "cell_type": "code",
   "execution_count": null,
   "metadata": {
    "collapsed": true
   },
   "outputs": [],
   "source": [
    "# cumulative_return[t] = (price[t]/price[0]) - 1\n",
    "def compute_cumulative_returns(df):\n",
    "    cumulative_returns = (df / df.iloc[0]) - 1\n",
    "    cumulative_returns.iloc[0] = 0\n",
    "    return cumulative_returns"
   ]
  },
  {
   "cell_type": "code",
   "execution_count": null,
   "metadata": {},
   "outputs": [],
   "source": [
    "# Test function\n",
    "plot_data(compute_cumulative_returns(df1))"
   ]
  },
  {
   "cell_type": "markdown",
   "metadata": {
    "collapsed": true
   },
   "source": [
    "### Incomplete Data\n",
    "#### Lesson 1-5"
   ]
  },
  {
   "cell_type": "code",
   "execution_count": null,
   "metadata": {
    "collapsed": true
   },
   "outputs": [],
   "source": [
    "# When there is missing data in between, we continue last known price until next known\n",
    "# price is available\n",
    "# Fill forward first, then fill backward\n",
    "#fillna(method='ffill')"
   ]
  },
  {
   "cell_type": "markdown",
   "metadata": {
    "collapsed": true
   },
   "source": [
    "### Histograms and Scatter Plots\n",
    "#### Lesson 1-6"
   ]
  },
  {
   "cell_type": "markdown",
   "metadata": {},
   "source": [
    "**Kurtosis**: The difference from normal distrubution.\n",
    "    - Positive Kurtosis: Fat tail\n",
    "    - Negative Kurtosis: Skinny tail"
   ]
  },
  {
   "cell_type": "code",
   "execution_count": null,
   "metadata": {},
   "outputs": [],
   "source": [
    "# Plotting Histogram\n",
    "# 1. First let's review stock data\n",
    "dates = pd.date_range('2009-01-01', '2012-12-31')\n",
    "symbols = ['SPY']\n",
    "df = get_data(symbols, dates)\n",
    "plot_data(df)"
   ]
  },
  {
   "cell_type": "code",
   "execution_count": null,
   "metadata": {},
   "outputs": [],
   "source": [
    "# Compute daily returns\n",
    "daily_returns = compute_daily_returns_2(df)\n",
    "plot_data(daily_returns, title=\"Daily Returns\")"
   ]
  },
  {
   "cell_type": "code",
   "execution_count": null,
   "metadata": {},
   "outputs": [],
   "source": [
    "# Plot Histogram\n",
    "daily_returns.hist(bins=20);"
   ]
  },
  {
   "cell_type": "code",
   "execution_count": null,
   "metadata": {},
   "outputs": [],
   "source": [
    "# Get mean and std\n",
    "mean = daily_returns['SPY'].mean()\n",
    "print(\"mean=\",mean)\n",
    "std = daily_returns['SPY'].std()\n",
    "print(\"std=\",std)"
   ]
  },
  {
   "cell_type": "code",
   "execution_count": null,
   "metadata": {},
   "outputs": [],
   "source": [
    "# Add information to histogram\n",
    "daily_returns.hist(bins=20);\n",
    "plt.axvline(mean, color='w', linestyle='dashed', linewidth=2);\n",
    "plt.axvline(std, color='r', linestyle='dashed', linewidth=2);\n",
    "plt.axvline(-std, color='r', linestyle='dashed', linewidth=2);"
   ]
  },
  {
   "cell_type": "code",
   "execution_count": null,
   "metadata": {},
   "outputs": [],
   "source": [
    "# Compute kurtosis for the plot\n",
    "print(daily_returns.kurtosis())"
   ]
  },
  {
   "cell_type": "code",
   "execution_count": null,
   "metadata": {},
   "outputs": [],
   "source": [
    "# Plotting two stock information\n",
    "symbols = ['SPY', 'XOM']\n",
    "df = get_data(symbols, dates)\n",
    "plot_data(df)"
   ]
  },
  {
   "cell_type": "code",
   "execution_count": null,
   "metadata": {},
   "outputs": [],
   "source": [
    "daily_returns = compute_daily_returns_2(df)\n",
    "plot_data(daily_returns, title=\"Daily Returns\")"
   ]
  },
  {
   "cell_type": "code",
   "execution_count": null,
   "metadata": {},
   "outputs": [],
   "source": [
    "# It shows in two separate chart\n",
    "daily_returns.hist(bins=20);"
   ]
  },
  {
   "cell_type": "code",
   "execution_count": null,
   "metadata": {},
   "outputs": [],
   "source": [
    "daily_returns['SPY'].hist(bins=20, label=\"SPY\")\n",
    "daily_returns['XOM'].hist(bins=20, label=\"XOM\")\n",
    "plt.legend(loc='upper right')\n",
    "plt.show()"
   ]
  },
  {
   "cell_type": "code",
   "execution_count": null,
   "metadata": {},
   "outputs": [],
   "source": [
    "# Scatter Plot\n",
    "symbols = ['SPY', 'XOM', 'GLD']\n",
    "df = get_data(symbols, dates)\n",
    "plot_data(df)"
   ]
  },
  {
   "cell_type": "code",
   "execution_count": null,
   "metadata": {},
   "outputs": [],
   "source": [
    "daily_returns = compute_daily_returns_2(df)\n",
    "# Scatter plot (SPY vs XOM)\n",
    "daily_returns.plot(kind='scatter',x='SPY',y='XOM');\n",
    "beta_XOM,alpha_XOM= np.polyfit(daily_returns['SPY'],\n",
    "                               daily_returns['XOM'], 1)\n",
    "plt.plot(daily_returns['SPY'], \n",
    "         beta_XOM * daily_returns['SPY'] + alpha_XOM,\n",
    "         '-',color='r');\n",
    "print(\"beta_XOM=\", beta_XOM)\n",
    "print(\"alpha_XOM=\", alpha_XOM)"
   ]
  },
  {
   "cell_type": "code",
   "execution_count": null,
   "metadata": {},
   "outputs": [],
   "source": [
    "# Scatter plot (SPY vs GLD)\n",
    "daily_returns.plot(kind='scatter',x='SPY',y='GLD');\n",
    "beta_GLD,alpha_GLD= np.polyfit(daily_returns['SPY'],\n",
    "                               daily_returns['GLD'], 1)\n",
    "plt.plot(daily_returns['SPY'],\n",
    "         beta_GLD * daily_returns['SPY'] + alpha_GLD,\n",
    "         '-',color='r');\n",
    "print(\"beta_GLD=\", beta_GLD)\n",
    "print(\"alpha_GLD=\", alpha_GLD)"
   ]
  },
  {
   "cell_type": "code",
   "execution_count": null,
   "metadata": {},
   "outputs": [],
   "source": [
    "# Calculate correlation\n",
    "print(daily_returns.corr(method='pearson'))"
   ]
  },
  {
   "cell_type": "markdown",
   "metadata": {
    "collapsed": true
   },
   "source": [
    "### Sharpe ratio and other portfolio\n",
    "#### Lesson 1-7"
   ]
  },
  {
   "cell_type": "markdown",
   "metadata": {
    "collapsed": true
   },
   "source": [
    "**Example**\n",
    "Let's calculate the value of portfolio for following example.\n",
    "\n",
    "- Start Value = $1,000,000\n",
    "- Start Date = 2009-1-1\n",
    "- End Date = 2011-12-31\n",
    "- Symbols = ['SPY','XOM','GOOG','GLD']\n",
    "- Allocation = [0.4, 0.4, 0.1, 0.1]"
   ]
  },
  {
   "cell_type": "code",
   "execution_count": null,
   "metadata": {},
   "outputs": [],
   "source": [
    "# Get necessary data\n",
    "dates = pd.date_range('2009-1-1', '2011-12-31')\n",
    "symbols = ['SPY','XOM','GOOG','GLD']\n",
    "df = get_data(symbols, dates)\n",
    "plot_data(df)\n",
    "print(df.head())"
   ]
  },
  {
   "cell_type": "code",
   "execution_count": null,
   "metadata": {},
   "outputs": [],
   "source": [
    "# Normalize data\n",
    "df_norm = normalize_data(df)\n",
    "print(df_norm.head())"
   ]
  },
  {
   "cell_type": "code",
   "execution_count": null,
   "metadata": {},
   "outputs": [],
   "source": [
    "# Provide allocation\n",
    "alloc = [0.4, 0.4, 0.1, 0.1]\n",
    "df_alloc = df_norm * alloc\n",
    "print(df_alloc.head())"
   ]
  },
  {
   "cell_type": "code",
   "execution_count": null,
   "metadata": {},
   "outputs": [],
   "source": [
    "# Multiply by Fund\n",
    "fund = 1000000\n",
    "df_fund = df_alloc * fund\n",
    "print(df_fund.head())"
   ]
  },
  {
   "cell_type": "code",
   "execution_count": null,
   "metadata": {},
   "outputs": [],
   "source": [
    "# Calculate portfolio values\n",
    "port_val = df_fund.sum(axis=1)\n",
    "print(port_val.head())\n",
    "plot_data(port_val, title=\"Portfolio price\")"
   ]
  },
  {
   "cell_type": "code",
   "execution_count": null,
   "metadata": {},
   "outputs": [],
   "source": [
    "# Calculate daily returns\n",
    "daily_returns = compute_daily_returns_2(port_val)\n",
    "print(daily_returns.head())\n",
    "# Remove first value as it is always 0\n",
    "daily_returns = daily_returns[1:]\n",
    "print(daily_returns.head())"
   ]
  },
  {
   "cell_type": "code",
   "execution_count": null,
   "metadata": {},
   "outputs": [],
   "source": [
    "# Calculate major statistics\n",
    "#\n",
    "# - Cumulative Returns\n",
    "cum_return = compute_cumulative_returns(port_val)\n",
    "plot_data(cum_return, title=\"Cumulative Return\")\n",
    "# - Average Daily Return\n",
    "avg_daily_return = daily_returns.mean()\n",
    "print(\"Average Daily Return =\", avg_daily_return)\n",
    "# - Std Daily Return\n",
    "std_daily_return = daily_returns.std()\n",
    "print(\"Std Daily Return =\",std_daily_return)\n",
    "# (Display as hist graph)\n",
    "ax = daily_returns.hist(bins=20);\n",
    "ax.set_title(\"Daily Return\")\n",
    "plt.axvline(avg_daily_return, color='w', linestyle='dashed', linewidth=2);\n",
    "plt.axvline(std_daily_return, color='r', linestyle='dashed', linewidth=2);\n",
    "plt.axvline(-std_daily_return, color='r', linestyle='dashed', linewidth=2);"
   ]
  },
  {
   "cell_type": "markdown",
   "metadata": {},
   "source": [
    "**Sharpe Ratio** => Risk adjusted return\n",
    "- Lower risk is better\n",
    "- Higher return is better\n",
    "\n",
    "SR also considers *risk free rate of return*\n",
    "```\n",
    "S = E(daily_return - daily_rf) / std(daily_return - daily_rf)\n",
    "```\n",
    "But it is safe to assume 0%\n",
    "```\n",
    "S = mean(daily_return) / std(daily_return)\n",
    "```\n",
    "But to be accurate\n",
    "daily_rf = root[252] (1.0 + 0.1) - 1\n",
    "```\n",
    "S = mean(daily_return - daily_rf) / std(daily_return)\n",
    "```\n",
    "\n",
    "**But more**\n",
    "SR can cary widely depending on how frequently you sample. SR is annual measure so you need to add adjustment value\n",
    "```\n",
    "SR_addualized = K * SR\n",
    "```\n",
    "where\n",
    "```\n",
    "k = sqrt(#samples per year)\n",
    "```\n",
    "so daily => sqrt(252), weekly => sqrt(52), monthly => sqrt(12)\n",
    "\n",
    "***Finally***\n",
    "```\n",
    "SR = sqrt(252) * mean(daily_return - daily_rf) / std(daily_return)\n",
    "```\n"
   ]
  },
  {
   "cell_type": "code",
   "execution_count": null,
   "metadata": {},
   "outputs": [],
   "source": [
    "# Sharpe Ratio\n",
    "sharpe_ratio = np.sqrt(252) * avg_daily_return / std_daily_return\n",
    "print(\"Sharpe Ratio =\", sharpe_ratio)"
   ]
  },
  {
   "cell_type": "code",
   "execution_count": null,
   "metadata": {
    "collapsed": true
   },
   "outputs": [],
   "source": []
  }
 ],
 "metadata": {
  "kernelspec": {
   "display_name": "Python 3",
   "language": "python",
   "name": "python3"
  },
  "language_info": {
   "codemirror_mode": {
    "name": "ipython",
    "version": 3
   },
   "file_extension": ".py",
   "mimetype": "text/x-python",
   "name": "python",
   "nbconvert_exporter": "python",
   "pygments_lexer": "ipython3",
   "version": "3.6.2"
  }
 },
 "nbformat": 4,
 "nbformat_minor": 2
}
